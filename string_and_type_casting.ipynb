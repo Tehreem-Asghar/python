{
 "cells": [
  {
   "cell_type": "markdown",
   "metadata": {},
   "source": [
    "\n",
    "# Strings in Python\n",
    "\n",
    "string is a sequence of characters enclosed in quotes (\" \" , '' , '''  ''' , \"\"\"  \"\"\" ). It is used to store text.\n",
    "\n",
    "* Single Quotes ('') : If we want to use double quotes inside a string, we can enclose the string in single quotes.\n",
    "* Double Quotes (\" \") :  If we want to use single quotes inside a string, we can enclose the string in double quotes.\n",
    "* Triple Quotes (''' ''' or \"\"\" \"\"\") :  Triple quotes are used for multiline strings or docstrings.\n",
    "* Raw Strings (r\" \") :  Raw strings treat backslashes (\\) as normal characters, which is useful for file paths and regex."
   ]
  },
  {
   "cell_type": "code",
   "execution_count": 1,
   "metadata": {},
   "outputs": [
    {
     "name": "stdout",
     "output_type": "stream",
     "text": [
      "He said, \"Hello, World!\"\n",
      "It's a beautiful day!\n",
      "This is a \n",
      "multiline string\n",
      "C:\\Users\\Tehreem\\Documents\n"
     ]
    }
   ],
   "source": [
    "#  Single Quotes ('')\n",
    "\n",
    "text = 'He said, \"Hello, World!\"'\n",
    "print(text)  # Output: He said, \"Hello, World!\"\n",
    "\n",
    "# Double Quotes (\" \")\n",
    "text = \"It's a beautiful day!\"\n",
    "print(text)  # Output: It's a beautiful day!\n",
    "\n",
    "# Triple Quotes (''' ''' or \"\"\" \"\"\")\n",
    "text = '''This is a \n",
    "multiline string'''\n",
    "print(text)\n",
    "\n",
    "# Raw Strings (r\" \")\n",
    "path = r\"C:\\Users\\Tehreem\\Documents\"\n",
    "print(path)  # Output: C:\\Users\\Tehreem\\Documents"
   ]
  },
  {
   "cell_type": "markdown",
   "metadata": {},
   "source": [
    "# Escape Sequence Characters \n",
    "\n",
    "   Escape sequence characters in Python are special characters used inside strings to represent things like new lines, tabs, or quotes. They start with a backslash (\\)."
   ]
  },
  {
   "cell_type": "code",
   "execution_count": 2,
   "metadata": {},
   "outputs": [
    {
     "name": "stdout",
     "output_type": "stream",
     "text": [
      "Hello\n",
      "World!\n",
      "Hello\tWorld!\n",
      "It's a beautiful day!\n",
      "He said, \"Python is awesome!\"\n",
      "This is a backslash: \\\n",
      "World!\n",
      "Hell World!\n",
      "Heart Symbol: ❤\n",
      "C:\\Users\\Tehreem\\Documents\n"
     ]
    }
   ],
   "source": [
    "# 1. New Line (\\n) – Moves text to the next line\n",
    "text = \"Hello\\nWorld!\"\n",
    "print(text)\n",
    "\n",
    "# 2. Tab (\\t) – Adds a tab space\n",
    "text = \"Hello\\tWorld!\"\n",
    "print(text)\n",
    "\n",
    "\n",
    "# 3. Single Quote (\\') – Allows using a single quote inside a single-quoted string\n",
    "\n",
    "text = 'It\\'s a beautiful day!'\n",
    "print(text)\n",
    "\n",
    "# 4. Double Quote (\\\") – Allows using double quotes inside a double-quoted\n",
    "\n",
    "text = \"He said, \\\"Python is awesome!\\\"\"\n",
    "print(text)\n",
    "\n",
    "# 5. Backslash (\\\\) – Prints a backslash\n",
    "\n",
    "text = \"This is a backslash: \\\\\"\n",
    "print(text)\n",
    "\n",
    "# 6. Carriage Return (\\r) – Moves the cursor to the start of the line\n",
    "text = \"Hello\\rWorld!\"\n",
    "print(text) # output: World!\n",
    "\n",
    "# 7. Backspace (\\b) – Removes the previous character\n",
    "text = \"Hello\\b World!\"\n",
    "print(text)\n",
    "\n",
    "# 8. Unicode Characters (\\uXXXX) – Prints special Unicode characters\n",
    "text = \"Heart Symbol: \\u2764\"\n",
    "print(text)\n",
    "\n",
    "# 9. Raw String (r\" \") – Treats backslashes as normal characters\n",
    "text = r\"C:\\Users\\Tehreem\\Documents\"\n",
    "print(text)"
   ]
  },
  {
   "cell_type": "markdown",
   "metadata": {},
   "source": [
    "# Performing Different Operations on String Object\n",
    "\n",
    "Python provides various operations that can be performed on string objects. Below are some common operations with examples:\n",
    "\n",
    "* Concatenation (+) : Concatenation means joining two or more strings together using the + operator.\n",
    "* Indexing ([]) :  Indexing allows us to access individual characters in a string using their position (starting from 0).\n",
    "*  Slicing ([start:end]) : Slicing is used to extract a portion of the string. The start index is included, but the end index is excluded.\n",
    "* Length (len()) : The len() function returns the total number of characters in a string.\n",
    "* Upper Case (upper()) : Converts all characters in a string to uppercase.\n",
    "* Lower Case (lower()) :  Converts all characters in a string to lowercase."
   ]
  },
  {
   "cell_type": "code",
   "execution_count": 9,
   "metadata": {},
   "outputs": [
    {
     "name": "stdout",
     "output_type": "stream",
     "text": [
      "Hello, World!\n",
      "H\n",
      "W\n",
      "World!\n",
      "Hello\n",
      "Hello\n",
      "World!\n",
      "13\n",
      "HELLO, WORLD!\n",
      "hello, world!\n"
     ]
    }
   ],
   "source": [
    "# Concatenation (+)\n",
    "my_string = 'Hello, ' + 'World!'\n",
    "print(my_string) # output: Hello, World!\n",
    "\n",
    "\n",
    "# Indexing ([]) \n",
    "my_string = 'Hello, World!'\n",
    "print(my_string[0])  # First character\n",
    "print(my_string[7])  # Character at index 7\n",
    "\n",
    "\n",
    "# Slicing ([start:end])\n",
    "\n",
    "my_string = 'Hello, World!'\n",
    "print(my_string[7:])   # From index 7 to end\n",
    "print(my_string[0:5])  # First 5 characters\n",
    "print(my_string[:5])   # Same as above (start is 0 by default)\n",
    "print(my_string[-6:])  # Last 6 characters\n",
    "\n",
    "\n",
    "# Length (len())\n",
    "my_string = 'Hello, World!'\n",
    "print(len(my_string))  \n",
    "\n",
    "\n",
    "# Upper Case (upper()) \n",
    "my_string = 'Hello, World!'\n",
    "print(my_string.upper())\n",
    "\n",
    "# Lower Case (lower())\n",
    "my_string = 'Hello, World!'\n",
    "print(my_string.lower())\n",
    "\n",
    "\n"
   ]
  },
  {
   "cell_type": "markdown",
   "metadata": {},
   "source": [
    "# split() → Splits a string into a list based on a specified delimiter"
   ]
  },
  {
   "cell_type": "code",
   "execution_count": 8,
   "metadata": {},
   "outputs": [
    {
     "name": "stdout",
     "output_type": "stream",
     "text": [
      "['Hello!', 'World']\n",
      "['Hello!', 'World']\n",
      "['He', '', 'o! Wor', 'd']\n",
      "['Hello,', 'World!', 'Hello,', 'Pakistan']\n",
      "['Hello,', 'World!', 'Hello,', 'Pakistan']\n",
      "['Hello', ' World! Hello', ' Pakistan']\n",
      "['Hell', ', W', 'rld! Hell', ', Pakistan']\n"
     ]
    }
   ],
   "source": [
    "my_string: str = 'Hello! World'\n",
    "\n",
    "# Default split()\n",
    "words: str = my_string.split() # Yeh code string ko spaces ke basis par tod raha hai:\n",
    "print(words) #['Hello!', 'World']\n",
    "\n",
    "\n",
    "# Space \" \" as a delimiter\n",
    "words = my_string.split(\" \")  # Space ko explicitly delimiter diya\n",
    "print(words) # ['Hello!', 'World']\n",
    "\n",
    "#  \"l\" as a delimiter\n",
    "\n",
    "words = my_string.split(\"l\")  # 'l' ko delimiter banaya\n",
    "print(words)\n",
    "\n",
    "# Example\n",
    "\n",
    "a: str = \"Hello, World! Hello, Pakistan\"\n",
    "\n",
    "print(a.split())\n",
    "print(a.split(\" \"))\n",
    "print(a.split(\",\"))\n",
    "print(a.split(\"o\"))"
   ]
  },
  {
   "cell_type": "markdown",
   "metadata": {},
   "source": [
    "# join() → Joins a list into a single string\n",
    "💡 Example: You have a list and you want to convert it into a single string."
   ]
  },
  {
   "cell_type": "code",
   "execution_count": 7,
   "metadata": {},
   "outputs": [
    {
     "name": "stdout",
     "output_type": "stream",
     "text": [
      "Hello world Python is awesome\n"
     ]
    }
   ],
   "source": [
    "words = [\"Hello\", \"world\", \"Python\", \"is\", \"awesome\"]\n",
    "sentence = \" \".join(words)  # Space ke saath join kar raha hai\n",
    "print(sentence)  # \"Hello world Python is awesome\""
   ]
  },
  {
   "cell_type": "markdown",
   "metadata": {},
   "source": [
    "# replace() → Replace a word in a string\n",
    "💡 Example: You want to change a word in a message."
   ]
  },
  {
   "cell_type": "code",
   "execution_count": 6,
   "metadata": {},
   "outputs": [
    {
     "name": "stdout",
     "output_type": "stream",
     "text": [
      "I love Python\n"
     ]
    }
   ],
   "source": [
    "text = \"I love Java\"\n",
    "new_text = text.replace(\"Java\", \"Python\")\n",
    "print(new_text)   # \"I love Python\"\n"
   ]
  },
  {
   "cell_type": "markdown",
   "metadata": {},
   "source": [
    "# find() → Finds the position of a word\n",
    "💡 Example: You want to check the position of a specific word."
   ]
  },
  {
   "cell_type": "code",
   "execution_count": 5,
   "metadata": {},
   "outputs": [
    {
     "name": "stdout",
     "output_type": "stream",
     "text": [
      "9\n"
     ]
    }
   ],
   "source": [
    "sentence = \"Learning Python is fun\"\n",
    "index = sentence.find(\"Python\")  \n",
    "print(index)  # 9\n"
   ]
  },
  {
   "cell_type": "markdown",
   "metadata": {},
   "source": [
    "# count() → Counts how many times a word is repeated\n",
    "💡 Example: You want to check how many times a word appears."
   ]
  },
  {
   "cell_type": "code",
   "execution_count": 4,
   "metadata": {},
   "outputs": [
    {
     "name": "stdout",
     "output_type": "stream",
     "text": [
      "3\n"
     ]
    }
   ],
   "source": [
    "text = \"apple banana apple orange apple\"\n",
    "count_apple = text.count(\"apple\")\n",
    "print(count_apple)  \n"
   ]
  },
  {
   "cell_type": "markdown",
   "metadata": {},
   "source": [
    "**Comprehensive Guide to Type Casting in Python** 🚀\n",
    " # What is Type Casting?\n",
    "\n",
    "Type casting (or type conversion) is the process of converting one data type into another. Python supports two types of type casting:\n",
    "\n",
    "* Implicit Type Casting – Done automatically by Python.\n",
    "* Explicit Type Casting – Done manually using built-in functions."
   ]
  },
  {
   "cell_type": "code",
   "execution_count": 11,
   "metadata": {},
   "outputs": [
    {
     "name": "stdout",
     "output_type": "stream",
     "text": [
      "12.5\n",
      "(10+3j)\n",
      "5\n",
      "100\n",
      "<class 'str'>\n",
      "50\n",
      "(1, 2, 3)\n",
      "False\n"
     ]
    }
   ],
   "source": [
    "# 1. Implicit Type Casting (Automatic Conversion)\n",
    "# Python automatically converts a smaller data type into a larger data type when required.\n",
    "\n",
    "# Integer to Float (Implicit Conversion)\n",
    "num_int = 10\n",
    "num_float = num_int + 2.5  # int + float → float\n",
    "print(num_float)  # Output: 12.5\n",
    "\n",
    "# Integer to Complex (Implicit Conversion)\n",
    "num_complex = num_int + 3j  # int + complex → complex\n",
    "print(num_complex)  # Output: (10+3j)\n",
    "\n",
    "\n",
    "\n",
    "\n",
    "\n",
    "# 2. Explicit Type Casting (Manual Conversion)\n",
    "# Explicit type casting is done using Python's built-in functions:\n",
    "\n",
    "\n",
    "# Convert Float to Integer\n",
    "num_float = 5.9\n",
    "num_int = int(num_float)  # Removes decimal part\n",
    "print(num_int)  # Output: 5\n",
    "\n",
    "# Convert Integer to String\n",
    "num = 100\n",
    "num_str = str(num)\n",
    "print(num_str)  # Output: '100'\n",
    "print(type(num_str))  # Output: <class 'str'>\n",
    "\n",
    "# Convert String to Integer\n",
    "num_str = \"50\"\n",
    "num_int = int(num_str)\n",
    "print(num_int)  # Output: 50\n",
    "\n",
    "# Convert List to Tuple\n",
    "my_list = [1, 2, 3]\n",
    "my_tuple = tuple(my_list)\n",
    "print(my_tuple)  # Output: (1, 2, 3)\n",
    "\n",
    "# Convert Integer to Boolean\n",
    "num = 0\n",
    "bool_value = bool(num)  # 0 → False, Any other number → True\n",
    "print(bool_value)  # Output: False\n"
   ]
  },
  {
   "cell_type": "markdown",
   "metadata": {},
   "source": [
    "# String Formatting in Python\n",
    "\n",
    "Python provides multiple ways to format strings, making it easier to insert variables into text dynamically.\n",
    "\n",
    " * Using the % Operator (Old Method)\n",
    "                The % operator allows inserting values into strings using placeholders like %s, %d, %f, etc.\n",
    "\n",
    "   ### String Formatting Placeholders\n",
    "\n",
    "| Placeholder | Meaning | Example |\n",
    "|------------|---------|---------|\n",
    "| `%s` | String | `\"Hello, %s\" % \"Alice\"` → `\"Hello, Alice\"` |\n",
    "| `%d` | Integer | `\"Age: %d\" % 25` → `\"Age: 25\"` |\n",
    "| `%c` | Character | `\"Letter: %c\" % 'A'` → `\"Letter: A\"` |\n",
    "| `%f` | Floating-point | `\"Pi: %f\" % 3.14159` → `\"Pi: 3.141590\"` |\n",
    "| `%.nf` | Floating-point (n decimal places) | `\"%.2f\" % 3.14159` → `\"3.14\"` |\n",
    "             "
   ]
  },
  {
   "cell_type": "code",
   "execution_count": 12,
   "metadata": {},
   "outputs": [
    {
     "name": "stdout",
     "output_type": "stream",
     "text": [
      "My name is John, first letter of my name is 'J', I am 20 years old and my weight is 70.53 Kg.\n"
     ]
    }
   ],
   "source": [
    "# Example: Using % Operator\n",
    "\n",
    "name = 'John'\n",
    "age = 20\n",
    "first_letter = name[0]\n",
    "my_weight = 70.532\n",
    "\n",
    "# Using % operator\n",
    "my_string = \"My name is %s, first letter of my name is '%c', I am %d years old and my weight is %.2f Kg.\" % (name, first_letter, age, my_weight)\n",
    "\n",
    "print(my_string)\n"
   ]
  },
  {
   "cell_type": "markdown",
   "metadata": {},
   "source": [
    " # 2. Using .format() Method (Recommended)\n",
    "The .format() method allows inserting values using {} placeholders."
   ]
  },
  {
   "cell_type": "code",
   "execution_count": 13,
   "metadata": {},
   "outputs": [
    {
     "name": "stdout",
     "output_type": "stream",
     "text": [
      "My name is John, first letter of my name is 'J', I am 20 years old and my weight is 70.53 Kg.\n"
     ]
    }
   ],
   "source": [
    "my_string = \"My name is {}, first letter of my name is '{}', I am {} years old and my weight is {:.2f} Kg.\".format(name, first_letter, age, my_weight)\n",
    "\n",
    "print(my_string)"
   ]
  },
  {
   "cell_type": "markdown",
   "metadata": {},
   "source": [
    "# 3. Using f-Strings (Best Method, Python 3.6+)\n",
    "f-Strings allow embedding expressions inside {} directly within the string."
   ]
  },
  {
   "cell_type": "code",
   "execution_count": 14,
   "metadata": {},
   "outputs": [
    {
     "name": "stdout",
     "output_type": "stream",
     "text": [
      "My name is John, first letter of my name is 'J', I am 20 years old and my weight is 70.53 Kg.\n"
     ]
    }
   ],
   "source": [
    "my_string = f\"My name is {name}, first letter of my name is '{first_letter}', I am {age} years old and my weight is {my_weight:.2f} Kg.\"\n",
    "\n",
    "print(my_string)\n"
   ]
  },
  {
   "cell_type": "markdown",
   "metadata": {},
   "source": [
    "# Does Order Matter in String Formatting?\n",
    "  * Yes! When using the % operator, .format(), or f-strings, the order of variables must match the placeholders, otherwise a TypeError will occur."
   ]
  },
  {
   "cell_type": "code",
   "execution_count": null,
   "metadata": {},
   "outputs": [],
   "source": [
    "# Incorrect order of variables\n",
    "my_string = \"My name is %s, first letter of my name is '%c', I am %d years old and my weight is %f Kg.\" % (my_weight, age, name, first_letter)\n",
    "\n",
    "print(my_string)  # output : TypeError: %c requires int or char, not str\n",
    "# This happens because name (a string) is placed where an integer %d is expected.\n"
   ]
  }
 ],
 "metadata": {
  "kernelspec": {
   "display_name": "python12",
   "language": "python",
   "name": "python3"
  },
  "language_info": {
   "codemirror_mode": {
    "name": "ipython",
    "version": 3
   },
   "file_extension": ".py",
   "mimetype": "text/x-python",
   "name": "python",
   "nbconvert_exporter": "python",
   "pygments_lexer": "ipython3",
   "version": "3.12.7"
  }
 },
 "nbformat": 4,
 "nbformat_minor": 2
}
