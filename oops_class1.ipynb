{
  "nbformat": 4,
  "nbformat_minor": 0,
  "metadata": {
    "colab": {
      "provenance": [],
      "authorship_tag": "ABX9TyMK1268rm1xfuwXzRzqujD4",
      "include_colab_link": true
    },
    "kernelspec": {
      "name": "python3",
      "display_name": "Python 3"
    },
    "language_info": {
      "name": "python"
    }
  },
  "cells": [
    {
      "cell_type": "markdown",
      "metadata": {
        "id": "view-in-github",
        "colab_type": "text"
      },
      "source": [
        "<a href=\"https://colab.research.google.com/github/Tehreem-Asghar/python/blob/main/oops_class1.ipynb\" target=\"_parent\"><img src=\"https://colab.research.google.com/assets/colab-badge.svg\" alt=\"Open In Colab\"/></a>"
      ]
    },
    {
      "cell_type": "markdown",
      "source": [
        "## oop (object oriented programming)\n",
        "\n",
        "* Class\n",
        "    * method\n",
        "        * first argument must be additional variable (self , this , or anything ese)\n",
        "    * attribute\n",
        "          * connect with individual object\n",
        "    * Class variable\n",
        "       * A class variable is a variable that is shared among all instances of a class. It is not defined inside a constructor (__init__ method) and is not specific to any single object. Instead, it is defined at the class level and remains the same for all instances of the class.\n",
        "    * this value use for all objects\n",
        "               *  ``` className.classVariable  ```\n",
        "                   * ```\n",
        "                     class ClassName():\n",
        "                         class_variable1 : type = value\n",
        "                          wheels = 4  # Class variable (same for all objects)\n",
        "\n",
        "                       ```\n",
        "    * constractor\n",
        "        * def ``` __init__(self,arg1,arg2)```\n",
        "\n",
        "## syntax of class\n",
        "   ```\n",
        "   class ClassName():\n",
        "          pass\n",
        "\n",
        "   ```\n",
        "\n",
        "classVariable\n",
        "   asi chiz jo tamam class ka liya tamam object ka liya same ho usko ham khata hai class variable  or class variable kisi constracter ma defined nhi hota kisi variabl ma defined nhi hota"
      ],
      "metadata": {
        "id": "GSaS5EHH0t7V"
      }
    },
    {
      "cell_type": "code",
      "source": [
        "class Teacher():\n",
        "  def __init__ (self, teacher_id : int ,teacher_name : str )-> None :\n",
        "    self.name :str = teacher_name\n",
        "    self.id : int = teacher_id\n",
        "    self.organization_name = \"GIAIC\"\n",
        "\n",
        "  def speak(self , words : str)-> None :\n",
        "    print(f\"\"\" {self.name} is speaking {words}\"\"\")\n",
        "\n",
        "\n",
        "  def teaching(self , subject : str)-> None :\n",
        "    print(f\"\"\" {self.name} is speaking {subject}\"\"\")\n",
        "\n",
        "obj1 : Teacher = Teacher(236294 , \"Tehreem Asghar\")\n",
        "print(obj1)\n",
        "print(obj1.name)\n",
        "print(obj1.id)\n",
        "print(obj1.organization_name)\n",
        "obj1.speak(\"Hello\")\n",
        "obj1.teaching(\"python\")\n",
        "\n"
      ],
      "metadata": {
        "colab": {
          "base_uri": "https://localhost:8080/"
        },
        "id": "bsMkw3nY2ymR",
        "outputId": "4348d8c8-2368-4efd-dca5-3f74d0ce0795"
      },
      "execution_count": null,
      "outputs": [
        {
          "output_type": "stream",
          "name": "stdout",
          "text": [
            "<__main__.Teacher object at 0x788cfd8ab690>\n",
            "Tehreem Asghar\n",
            "236294\n",
            "GIAIC\n",
            " Tehreem Asghar is speaking Hello\n",
            " Tehreem Asghar is speaking python\n"
          ]
        }
      ]
    },
    {
      "cell_type": "code",
      "source": [
        "dir(obj1)"
      ],
      "metadata": {
        "colab": {
          "base_uri": "https://localhost:8080/"
        },
        "id": "ciAwsP7468g9",
        "outputId": "874388a8-9316-4603-c5d9-07a7e6f541e5"
      },
      "execution_count": null,
      "outputs": [
        {
          "output_type": "execute_result",
          "data": {
            "text/plain": [
              "['__class__',\n",
              " '__delattr__',\n",
              " '__dict__',\n",
              " '__dir__',\n",
              " '__doc__',\n",
              " '__eq__',\n",
              " '__format__',\n",
              " '__ge__',\n",
              " '__getattribute__',\n",
              " '__getstate__',\n",
              " '__gt__',\n",
              " '__hash__',\n",
              " '__init__',\n",
              " '__init_subclass__',\n",
              " '__le__',\n",
              " '__lt__',\n",
              " '__module__',\n",
              " '__ne__',\n",
              " '__new__',\n",
              " '__reduce__',\n",
              " '__reduce_ex__',\n",
              " '__repr__',\n",
              " '__setattr__',\n",
              " '__sizeof__',\n",
              " '__str__',\n",
              " '__subclasshook__',\n",
              " '__weakref__',\n",
              " 'id',\n",
              " 'name',\n",
              " 'organization_name',\n",
              " 'speak',\n",
              " 'teaching']"
            ]
          },
          "metadata": {},
          "execution_count": 10
        }
      ]
    },
    {
      "cell_type": "code",
      "source": [
        "# we can also write this or self anything name\n",
        "\n",
        "class Teacher():\n",
        "  def __init__ (this, teacher_id : int ,teacher_name : str )-> None :\n",
        "    this.name :str = teacher_name\n",
        "    this.id : int = teacher_id\n",
        "    this.organization_name = \"GIAIC\"\n",
        "\n",
        "  def speak(this , words : str)-> None :\n",
        "    print(f\"\"\" {this.name} is speaking {words}\"\"\")\n",
        "\n",
        "\n",
        "  def teaching(this , subject : str)-> None :\n",
        "    print(f\"\"\" {this.name} is speaking {subject}\"\"\")\n",
        "\n",
        "obj1 : Teacher = Teacher(236294 , \"Tehreem Asghar\")\n",
        "print(obj1)\n",
        "print(obj1.name)\n",
        "print(obj1.id)\n",
        "print(obj1.organization_name)\n",
        "obj1.speak(\"Hello\")\n",
        "obj1.teaching(\"python\")"
      ],
      "metadata": {
        "id": "FVOBD4bX7APv"
      },
      "execution_count": null,
      "outputs": []
    },
    {
      "cell_type": "code",
      "source": [
        "class Teacher():\n",
        "  counter : int = 0 # class variable same for all objects\n",
        "  organization_name = \"GIAIC\"\n",
        "\n",
        "\n",
        "  def __init__ (self, teacher_id : int ,teacher_name : str )-> None :\n",
        "    self.name :str = teacher_name\n",
        "    self.id : int = teacher_id\n",
        "    Teacher.counter += 1 # count all instance\n",
        "\n",
        "\n",
        "\n",
        "  def speak(self , words : str)-> None :\n",
        "    print(f\"\"\" {self.name} is speaking {words}\"\"\")\n",
        "\n",
        "\n",
        "  def teaching(self , subject : str)-> None :\n",
        "    print(f\"\"\" {self.name} is speaking {subject}\"\"\")\n",
        "\n",
        "obj1 : Teacher = Teacher(236294 , \"Tehreem Asghar\")\n",
        "obj2 : Teacher = Teacher(236294 , \"Tehreem Asghar\")\n",
        "\n",
        "print(obj1.counter)\n",
        "print(Teacher.organization_name)\n",
        "print(Teacher.counter)"
      ],
      "metadata": {
        "colab": {
          "base_uri": "https://localhost:8080/"
        },
        "id": "VFKUudMVA-Dv",
        "outputId": "89dc9136-84f4-4978-b21c-0f2b67ce94ac"
      },
      "execution_count": null,
      "outputs": [
        {
          "output_type": "stream",
          "name": "stdout",
          "text": [
            "2\n",
            "GIAIC\n",
            "2\n"
          ]
        }
      ]
    },
    {
      "cell_type": "markdown",
      "source": [
        "## inheritance"
      ],
      "metadata": {
        "id": "o8C4ni4uX8NM"
      }
    },
    {
      "cell_type": "code",
      "source": [
        "class Parents():\n",
        "  def __init__(self) -> None:\n",
        "    self.eye_color = \"Brown\"\n",
        "    self.hair_color = \"black\"\n",
        "\n",
        "\n",
        "  def speak(self , words : str)-> None :\n",
        "    print(f\"\"\"parent method speak: {words}\"\"\")\n",
        "\n",
        "\n",
        "  def watching(self , object_name : str)-> None :\n",
        "    print(f\"\"\" you are looking: {object_name}\"\"\")\n",
        "\n",
        "\n",
        "\n",
        "class Child(Parents):\n",
        "  pass\n",
        "\n",
        "\n",
        "\n",
        "# parent class\n",
        "obj2 = Parents()\n",
        "print(obj2.eye_color)\n",
        "print(obj2.hair_color)\n",
        "obj2.speak(\"hello\")\n",
        "obj2.watching(\"TV\")\n",
        "\n",
        "\n",
        "# child class\n",
        "obj1 = Child()\n",
        "obj1.speak(\"hello\")\n",
        "obj1.name = \"Tehreem\"\n",
        "print(obj1.name)\n",
        "print(obj1.eye_color)\n",
        "print(obj1.hair_color)"
      ],
      "metadata": {
        "colab": {
          "base_uri": "https://localhost:8080/"
        },
        "id": "9Ma5zgdAGZD4",
        "outputId": "06a94643-63aa-4454-f24c-747f97ccd7a9"
      },
      "execution_count": null,
      "outputs": [
        {
          "output_type": "stream",
          "name": "stdout",
          "text": [
            "Brown\n",
            "black\n",
            "parent method speak: hello\n",
            " you are looking: TV\n",
            "parent method speak: hello\n",
            "Tehreem\n",
            "Brown\n",
            "black\n"
          ]
        }
      ]
    },
    {
      "cell_type": "code",
      "source": [
        "class Employe:\n",
        "  def __init__(self , name : str) -> None:\n",
        "    self.name : str = name\n",
        "    self.education : str = \"\"\n",
        "    self.department : str = \"\"\n",
        "\n",
        "\n",
        "class Designer(Employe):\n",
        "  def __init__(self, title : str , name: str) -> None:\n",
        "    super().__init__(name)\n",
        "    self.title = title\n",
        "\n",
        "class Developer(Employe):\n",
        "  def __init__(self, title : str , name: str) -> None:\n",
        "    super().__init__(name)\n",
        "    self.title : str = title\n",
        "    self.programming_skills : list[str] = [\"python\"]\n",
        "\n",
        "\n",
        "\n",
        "designer1=Designer(\"Animation Artist\" , \"Asif Khan\")\n",
        "developer1 : Developer = Developer(\"GenAI Engineer\" , \"John Doa\")\n",
        "\n",
        "print(designer1.name)\n",
        "print(designer1.title)\n",
        "print(developer1.name)\n",
        "print(developer1.title)\n",
        "print(developer1.programming_skills)\n"
      ],
      "metadata": {
        "colab": {
          "base_uri": "https://localhost:8080/"
        },
        "id": "9VH6FLiKPWcD",
        "outputId": "52347348-d664-4ced-f10b-5463355e099e"
      },
      "execution_count": null,
      "outputs": [
        {
          "output_type": "stream",
          "name": "stdout",
          "text": [
            "Asif Khan\n",
            "Animation Artist\n",
            "John Doa\n",
            "GenAI Engineer\n",
            "['python']\n"
          ]
        }
      ]
    },
    {
      "cell_type": "markdown",
      "source": [
        "## Super()"
      ],
      "metadata": {
        "id": "eWDzsfG2YJYU"
      }
    },
    {
      "cell_type": "code",
      "source": [
        "class Students():\n",
        "  course : str = \"cloud computing generative ai\"\n",
        "  location : str = \"Governor House IT Marki\"\n",
        "  def __init__(self  , day , time , teacher , Student_name , roll_no ) -> None:\n",
        "    self.day : str = day\n",
        "    self.time : str = time\n",
        "    self.teacher : str = teacher\n",
        "    self.student_name : str = Student_name\n",
        "    self.roll_no : int = roll_no\n",
        "\n",
        "\n",
        "  def present(self):\n",
        "    print(f\"\"\" {self.roll_no} ) {self.student_name} - present\"\"\")\n",
        "\n",
        "\n",
        "class Attendance(Students):\n",
        "  pass\n",
        "\n",
        "\n",
        "\n",
        "stu = Attendance(\"friday\" , \"9-12 morning\" , \"hamzah syed\" , \"Tehreem Asghar\" , 236294)\n",
        "print(stu)\n",
        "print(stu.day)\n",
        "print(stu.time)\n",
        "print(stu.teacher)\n",
        "print(stu.student_name)\n",
        "print(stu.roll_no)\n",
        "stu.present()\n",
        "\n",
        "\n"
      ],
      "metadata": {
        "colab": {
          "base_uri": "https://localhost:8080/"
        },
        "id": "tOKcAYptTsp9",
        "outputId": "697c4403-d43e-4e99-f2e1-ffa703626a8a"
      },
      "execution_count": null,
      "outputs": [
        {
          "output_type": "stream",
          "name": "stdout",
          "text": [
            "<__main__.Attendance object at 0x788cfd706750>\n",
            "friday\n",
            "9-12 morning\n",
            "hamzah syed\n",
            "Tehreem Asghar\n",
            "236294\n",
            " 236294 ) Tehreem Asghar - present\n"
          ]
        }
      ]
    },
    {
      "cell_type": "code",
      "source": [
        "class Students():\n",
        "  course : str = \"cloud computing generative ai\"\n",
        "  location : str = \"Governor House IT Marki\"\n",
        "  def __init__(self  , day , time , teacher , Student_name , roll_no ) -> None:\n",
        "    self.day : str = day\n",
        "    self.time : str = time\n",
        "    self.teacher : str = teacher\n",
        "    self.student_name : str = Student_name\n",
        "    self.roll_no : int = roll_no\n",
        "\n",
        "\n",
        "  def present(self):\n",
        "    print(f\"\"\" {self.roll_no} ) {self.student_name} - present\"\"\")\n",
        "\n",
        "\n",
        "class Attendance(Students):\n",
        "  def __init__( self , experience , day , time , teacher , Student_name , roll_no  ):\n",
        "    super().__init__(day , time , teacher , Student_name , roll_no )\n",
        "    self.experience : str = experience\n",
        "\n",
        "\n",
        "stu = Attendance( \"One Year\" ,\"friday\" , \"9-12 morning\" , \"hamzah syed\" , \"Tehreem Asghar\" , 236294)\n",
        "print(stu.experience)\n",
        "print(stu)\n",
        "print(stu.day)\n",
        "print(stu.time)\n",
        "print(stu.teacher)\n",
        "print(stu.student_name)\n",
        "print(stu.roll_no)\n",
        "stu.present()"
      ],
      "metadata": {
        "colab": {
          "base_uri": "https://localhost:8080/"
        },
        "id": "nen4x5G5We5s",
        "outputId": "00f6f2bd-3b4b-4d49-c28c-5a559a3c7151"
      },
      "execution_count": null,
      "outputs": [
        {
          "output_type": "stream",
          "name": "stdout",
          "text": [
            "One Year\n",
            "<__main__.Attendance object at 0x788cee5bee50>\n",
            "friday\n",
            "9-12 morning\n",
            "hamzah syed\n",
            "Tehreem Asghar\n",
            "236294\n",
            " 236294 ) Tehreem Asghar - present\n"
          ]
        }
      ]
    }
  ]
}