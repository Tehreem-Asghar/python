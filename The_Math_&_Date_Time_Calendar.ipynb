{
  "nbformat": 4,
  "nbformat_minor": 0,
  "metadata": {
    "colab": {
      "provenance": [],
      "authorship_tag": "ABX9TyOdGDyFbCtJyV5ClVT+7H1J",
      "include_colab_link": true
    },
    "kernelspec": {
      "name": "python3",
      "display_name": "Python 3"
    },
    "language_info": {
      "name": "python"
    }
  },
  "cells": [
    {
      "cell_type": "markdown",
      "metadata": {
        "id": "view-in-github",
        "colab_type": "text"
      },
      "source": [
        "<a href=\"https://colab.research.google.com/github/Tehreem-Asghar/python/blob/main/The_Math_%26_Date_Time_Calendar.ipynb\" target=\"_parent\"><img src=\"https://colab.research.google.com/assets/colab-badge.svg\" alt=\"Open In Colab\"/></a>"
      ]
    },
    {
      "cell_type": "markdown",
      "source": [
        "# **The Date & Time**"
      ],
      "metadata": {
        "id": "4yqQBDonz0-R"
      }
    },
    {
      "cell_type": "markdown",
      "source": [
        "Python's time module provides functions to work with time based on the epoch:\n",
        "\n",
        "time.time(): Returns the current time as a floating-point number of seconds since the epoch.\n",
        "time.gmtime(seconds): Converts seconds since the epoch to a time tuple in Coordinated Universal Time (UTC).\n",
        "time.localtime(seconds): Converts seconds since the epoch to a time tuple in local time."
      ],
      "metadata": {
        "id": "z6whVsCH2sgS"
      }
    },
    {
      "cell_type": "code",
      "source": [
        "import time\n",
        "\n",
        "#  function Python mein current time in seconds return karta hai since the epoch (i.e., 1st January 1970, 00:00:00 UTC).\n",
        "\n",
        "time = time.time()\n",
        "print(time)"
      ],
      "metadata": {
        "colab": {
          "base_uri": "https://localhost:8080/"
        },
        "id": "Gilrnb-ez4cR",
        "outputId": "096db221-3326-4523-951e-2dc832593885"
      },
      "execution_count": null,
      "outputs": [
        {
          "output_type": "stream",
          "name": "stdout",
          "text": [
            "1745079000.3708262\n"
          ]
        }
      ]
    },
    {
      "cell_type": "markdown",
      "source": [
        "# **localtime()**\n",
        " Python mein localtime() function current local time ko structured form mein return karta hai — yani time.struct_time object ke form mein deta hai."
      ],
      "metadata": {
        "id": "G51LQCQK1MWr"
      }
    },
    {
      "cell_type": "code",
      "source": [
        "import time\n",
        "time1 = time.localtime(time.time())\n",
        "print(time1)"
      ],
      "metadata": {
        "colab": {
          "base_uri": "https://localhost:8080/"
        },
        "id": "ADG13wD40HmX",
        "outputId": "483a23af-1195-407b-b565-342acf118380"
      },
      "execution_count": null,
      "outputs": [
        {
          "output_type": "stream",
          "name": "stdout",
          "text": [
            "time.struct_time(tm_year=2025, tm_mon=4, tm_mday=19, tm_hour=16, tm_min=12, tm_sec=45, tm_wday=5, tm_yday=109, tm_isdst=0)\n"
          ]
        }
      ]
    },
    {
      "cell_type": "markdown",
      "source": [
        "# **time.asctime()**\n",
        " function Python mein ek readable string format mein time return karta hai — yani structured time ko human-readable bana deta hai."
      ],
      "metadata": {
        "id": "abnjobPX1RDN"
      }
    },
    {
      "cell_type": "code",
      "source": [
        "import time\n",
        "time2 = time.asctime(time.localtime(time.time()))\n",
        "print(time2)"
      ],
      "metadata": {
        "colab": {
          "base_uri": "https://localhost:8080/"
        },
        "id": "DQ0svFpW0G_d",
        "outputId": "d14c7d6d-4f89-4c34-e44e-df99bb717cd9"
      },
      "execution_count": null,
      "outputs": [
        {
          "output_type": "stream",
          "name": "stdout",
          "text": [
            "Sat Apr 19 16:15:38 2025\n"
          ]
        }
      ]
    },
    {
      "cell_type": "markdown",
      "source": [
        "# The Calendar\n",
        "\n",
        "# Getting the Calendar for a Month\n",
        "The calendar module gives a wide range of methods to play with yearly and monthly calendars. Here, we print a calendar for a given month (Jan 2025)."
      ],
      "metadata": {
        "id": "gWc5otvb3LBR"
      }
    },
    {
      "cell_type": "code",
      "source": [
        "import calendar\n",
        "cal = calendar.month(2025, 4)\n",
        "print (\"Here is the calendar:\")\n",
        "print (cal)"
      ],
      "metadata": {
        "colab": {
          "base_uri": "https://localhost:8080/"
        },
        "id": "e1cKbLEj3Qud",
        "outputId": "c58876a1-1aaa-4a64-d5fd-54189d30d38f"
      },
      "execution_count": null,
      "outputs": [
        {
          "output_type": "stream",
          "name": "stdout",
          "text": [
            "Here is the calendar:\n",
            "     April 2025\n",
            "Mo Tu We Th Fr Sa Su\n",
            "    1  2  3  4  5  6\n",
            " 7  8  9 10 11 12 13\n",
            "14 15 16 17 18 19 20\n",
            "21 22 23 24 25 26 27\n",
            "28 29 30\n",
            "\n"
          ]
        }
      ]
    },
    {
      "cell_type": "code",
      "source": [
        "from datetime import date\n",
        "\n",
        "date = date(2025 , 4 , 19)\n",
        "print(date)"
      ],
      "metadata": {
        "colab": {
          "base_uri": "https://localhost:8080/"
        },
        "id": "BzR7pDG74MaA",
        "outputId": "0555b8dc-b30e-4cd0-a7f4-28c9ff7345e3"
      },
      "execution_count": null,
      "outputs": [
        {
          "output_type": "stream",
          "name": "stdout",
          "text": [
            "2025-04-19\n"
          ]
        }
      ]
    },
    {
      "cell_type": "code",
      "source": [
        "import datetime\n",
        "\n",
        "x = datetime.datetime.now() #The date contains year, month, day, hour, minute, second, and microsecond.\n",
        "print(x)"
      ],
      "metadata": {
        "colab": {
          "base_uri": "https://localhost:8080/"
        },
        "id": "BcATHK5I4mVE",
        "outputId": "c3a81e64-a318-49c6-865e-4d3abac10566"
      },
      "execution_count": null,
      "outputs": [
        {
          "output_type": "stream",
          "name": "stdout",
          "text": [
            "2025-04-19 16:29:46.641398\n"
          ]
        }
      ]
    },
    {
      "cell_type": "markdown",
      "source": [
        "# **The strftime() Method**"
      ],
      "metadata": {
        "id": "RcVbGffU4oyV"
      }
    },
    {
      "cell_type": "code",
      "source": [
        "import datetime\n",
        "\n",
        "x = datetime.datetime(2025, 4, 19)\n",
        "\n",
        "print(x.strftime(\"%f\")) #Display Microsecond 000000-999999\n",
        "print(x.strftime(\"%A\")) #Display the name of the Day\n",
        "print(x.strftime(\"%Y\")) #Display the Year\n",
        "print(x.strftime(\"%B\")) #Display the name of the month\n"
      ],
      "metadata": {
        "colab": {
          "base_uri": "https://localhost:8080/"
        },
        "id": "d7vnRTN_4oUT",
        "outputId": "47ae3f8d-9270-4b8f-c3fc-b219e900da85"
      },
      "execution_count": null,
      "outputs": [
        {
          "output_type": "stream",
          "name": "stdout",
          "text": [
            "000000\n",
            "Saturday\n",
            "2025\n",
            "April\n"
          ]
        }
      ]
    },
    {
      "cell_type": "markdown",
      "source": [
        "# **calendar()**"
      ],
      "metadata": {
        "id": "YNXV80R1UHMJ"
      }
    },
    {
      "cell_type": "code",
      "source": [
        "import calendar\n",
        "\n",
        "print(calendar.calendar(2025))"
      ],
      "metadata": {
        "id": "giLiZAmO5Sqg",
        "colab": {
          "base_uri": "https://localhost:8080/"
        },
        "outputId": "e2a80a60-b605-40f3-e581-dc980fec7e88"
      },
      "execution_count": 3,
      "outputs": [
        {
          "output_type": "stream",
          "name": "stdout",
          "text": [
            "                                  2025\n",
            "\n",
            "      January                   February                   March\n",
            "Mo Tu We Th Fr Sa Su      Mo Tu We Th Fr Sa Su      Mo Tu We Th Fr Sa Su\n",
            "       1  2  3  4  5                      1  2                      1  2\n",
            " 6  7  8  9 10 11 12       3  4  5  6  7  8  9       3  4  5  6  7  8  9\n",
            "13 14 15 16 17 18 19      10 11 12 13 14 15 16      10 11 12 13 14 15 16\n",
            "20 21 22 23 24 25 26      17 18 19 20 21 22 23      17 18 19 20 21 22 23\n",
            "27 28 29 30 31            24 25 26 27 28            24 25 26 27 28 29 30\n",
            "                                                    31\n",
            "\n",
            "       April                      May                       June\n",
            "Mo Tu We Th Fr Sa Su      Mo Tu We Th Fr Sa Su      Mo Tu We Th Fr Sa Su\n",
            "    1  2  3  4  5  6                1  2  3  4                         1\n",
            " 7  8  9 10 11 12 13       5  6  7  8  9 10 11       2  3  4  5  6  7  8\n",
            "14 15 16 17 18 19 20      12 13 14 15 16 17 18       9 10 11 12 13 14 15\n",
            "21 22 23 24 25 26 27      19 20 21 22 23 24 25      16 17 18 19 20 21 22\n",
            "28 29 30                  26 27 28 29 30 31         23 24 25 26 27 28 29\n",
            "                                                    30\n",
            "\n",
            "        July                     August                  September\n",
            "Mo Tu We Th Fr Sa Su      Mo Tu We Th Fr Sa Su      Mo Tu We Th Fr Sa Su\n",
            "    1  2  3  4  5  6                   1  2  3       1  2  3  4  5  6  7\n",
            " 7  8  9 10 11 12 13       4  5  6  7  8  9 10       8  9 10 11 12 13 14\n",
            "14 15 16 17 18 19 20      11 12 13 14 15 16 17      15 16 17 18 19 20 21\n",
            "21 22 23 24 25 26 27      18 19 20 21 22 23 24      22 23 24 25 26 27 28\n",
            "28 29 30 31               25 26 27 28 29 30 31      29 30\n",
            "\n",
            "      October                   November                  December\n",
            "Mo Tu We Th Fr Sa Su      Mo Tu We Th Fr Sa Su      Mo Tu We Th Fr Sa Su\n",
            "       1  2  3  4  5                      1  2       1  2  3  4  5  6  7\n",
            " 6  7  8  9 10 11 12       3  4  5  6  7  8  9       8  9 10 11 12 13 14\n",
            "13 14 15 16 17 18 19      10 11 12 13 14 15 16      15 16 17 18 19 20 21\n",
            "20 21 22 23 24 25 26      17 18 19 20 21 22 23      22 23 24 25 26 27 28\n",
            "27 28 29 30 31            24 25 26 27 28 29 30      29 30 31\n",
            "\n"
          ]
        }
      ]
    },
    {
      "cell_type": "code",
      "source": [
        "import  calendar\n",
        "\n",
        "print(calendar.month(2025 ,4))\n"
      ],
      "metadata": {
        "colab": {
          "base_uri": "https://localhost:8080/"
        },
        "id": "qQV2Z_QJNJzo",
        "outputId": "9ededf07-f5a1-4724-f574-f7cc87c3835d"
      },
      "execution_count": 4,
      "outputs": [
        {
          "output_type": "stream",
          "name": "stdout",
          "text": [
            "     April 2025\n",
            "Mo Tu We Th Fr Sa Su\n",
            "    1  2  3  4  5  6\n",
            " 7  8  9 10 11 12 13\n",
            "14 15 16 17 18 19 20\n",
            "21 22 23 24 25 26 27\n",
            "28 29 30\n",
            "\n"
          ]
        }
      ]
    },
    {
      "cell_type": "code",
      "source": [
        "print(calendar.month(2025 ,4 ,3 ,1))"
      ],
      "metadata": {
        "colab": {
          "base_uri": "https://localhost:8080/"
        },
        "id": "R6vgDUF5OKRF",
        "outputId": "4e82aa06-416c-400b-d031-41caff47f943"
      },
      "execution_count": 24,
      "outputs": [
        {
          "output_type": "stream",
          "name": "stdout",
          "text": [
            "         April 2025\n",
            "Mon Tue Wed Thu Fri Sat Sun\n",
            "      1   2   3   4   5   6\n",
            "  7   8   9  10  11  12  13\n",
            " 14  15  16  17  18  19  20\n",
            " 21  22  23  24  25  26  27\n",
            " 28  29  30\n",
            "\n"
          ]
        }
      ]
    },
    {
      "cell_type": "code",
      "source": [
        "month_name = list(calendar.month_name)\n",
        "print(month_name)"
      ],
      "metadata": {
        "colab": {
          "base_uri": "https://localhost:8080/"
        },
        "id": "kDZUvV6sOcK8",
        "outputId": "5107aa85-319e-48c6-d26c-bc8e9d4aaff7"
      },
      "execution_count": 6,
      "outputs": [
        {
          "output_type": "stream",
          "name": "stdout",
          "text": [
            "['', 'January', 'February', 'March', 'April', 'May', 'June', 'July', 'August', 'September', 'October', 'November', 'December']\n"
          ]
        }
      ]
    },
    {
      "cell_type": "code",
      "source": [
        "day_name = list(calendar.day_name)\n",
        "print(day_name)"
      ],
      "metadata": {
        "colab": {
          "base_uri": "https://localhost:8080/"
        },
        "id": "Kd-zO1CXOz03",
        "outputId": "3a108dc2-ab92-4347-cc5e-e4ae7a9e9da1"
      },
      "execution_count": 7,
      "outputs": [
        {
          "output_type": "stream",
          "name": "stdout",
          "text": [
            "['Monday', 'Tuesday', 'Wednesday', 'Thursday', 'Friday', 'Saturday', 'Sunday']\n"
          ]
        }
      ]
    },
    {
      "cell_type": "code",
      "source": [
        "calendar.weekheader(3)"
      ],
      "metadata": {
        "colab": {
          "base_uri": "https://localhost:8080/",
          "height": 35
        },
        "id": "8XHfJv4IQGbW",
        "outputId": "2883442b-807e-4858-c7d8-14a5490059fa"
      },
      "execution_count": 13,
      "outputs": [
        {
          "output_type": "execute_result",
          "data": {
            "text/plain": [
              "'Thu Fri Sat Sun Mon Tue Wed'"
            ],
            "application/vnd.google.colaboratory.intrinsic+json": {
              "type": "string"
            }
          },
          "metadata": {},
          "execution_count": 13
        }
      ]
    },
    {
      "cell_type": "code",
      "source": [
        "print(calendar.setfirstweekday(0))"
      ],
      "metadata": {
        "colab": {
          "base_uri": "https://localhost:8080/"
        },
        "id": "qJIN1GwLPyyF",
        "outputId": "188f3ecb-31d2-4d50-f86c-a8df73e1bdf8"
      },
      "execution_count": 19,
      "outputs": [
        {
          "output_type": "stream",
          "name": "stdout",
          "text": [
            "None\n"
          ]
        }
      ]
    },
    {
      "cell_type": "code",
      "source": [
        "calendar.weekheader(1)"
      ],
      "metadata": {
        "colab": {
          "base_uri": "https://localhost:8080/",
          "height": 35
        },
        "id": "nK_pT7lTQMSH",
        "outputId": "45f8b964-1ee2-45de-e968-665a4ee82aee"
      },
      "execution_count": 20,
      "outputs": [
        {
          "output_type": "execute_result",
          "data": {
            "text/plain": [
              "'M T W T F S S'"
            ],
            "application/vnd.google.colaboratory.intrinsic+json": {
              "type": "string"
            }
          },
          "metadata": {},
          "execution_count": 20
        }
      ]
    },
    {
      "cell_type": "markdown",
      "source": [
        "# **Datetime()**"
      ],
      "metadata": {
        "id": "9k7N0kFeUOjB"
      }
    },
    {
      "cell_type": "code",
      "source": [
        "import datetime\n",
        "\n",
        "print(datetime.datetime.now())"
      ],
      "metadata": {
        "colab": {
          "base_uri": "https://localhost:8080/"
        },
        "id": "uKaaI1VRUWPD",
        "outputId": "367d9d14-7e13-4c17-db0c-46ce4bea2ba6"
      },
      "execution_count": 25,
      "outputs": [
        {
          "output_type": "stream",
          "name": "stdout",
          "text": [
            "2025-04-19 23:11:15.496152\n"
          ]
        }
      ]
    },
    {
      "cell_type": "code",
      "source": [
        "print(datetime.datetime(2021 , 1 , 18))"
      ],
      "metadata": {
        "colab": {
          "base_uri": "https://localhost:8080/"
        },
        "id": "Lj0bBcGEUhlp",
        "outputId": "1808098a-e424-4fe6-d843-6654cd1c2314"
      },
      "execution_count": 27,
      "outputs": [
        {
          "output_type": "stream",
          "name": "stdout",
          "text": [
            "2021-01-18 00:00:00\n"
          ]
        }
      ]
    },
    {
      "cell_type": "code",
      "source": [],
      "metadata": {
        "id": "6-BB78PUcOim"
      },
      "execution_count": null,
      "outputs": []
    },
    {
      "cell_type": "code",
      "source": [
        "import math\n",
        "\n",
        "# abs() returns the absolute value of a number\n",
        "# In Python, abs() is a built-in function, which means it's a global function\n",
        "# available in the standard library without needing to import any specific modules.\n",
        "# You can use it directly in your code.\n",
        "print(\"abs(-5) = \", abs(-5))  # outputs: 5\n",
        "\n",
        "# pow() raises a number to a power\n",
        "print(\"pow(2, 3) = \", pow(2, 3))  # outputs: 8\n",
        "\n",
        "# round() rounds a number to a specified number of decimal places\n",
        "print(\"round(3.14159, 2) = \", round(3.14159, 2))  # outputs: 3.14\n",
        "\n",
        "# max() returns the largest of a set of numbers\n",
        "print(\"max(1, 2, 3, 4, 5) = \", max(1, 2, 3, 4, 5))  # outputs: 5\n",
        "\n",
        "# min() returns the smallest of a set of numbers\n",
        "print(\"min(1, 2, 3, 4, 5) = \", min(1, 2, 3, 4, 5))  # outputs: 1\n",
        "\n",
        "# math.sin() returns the sine of an angle in radians\n",
        "print(\"math.sin(math.pi/2) = \", math.sin(math.pi/2))  # outputs: 1.0\n",
        "\n",
        "# math.cos() returns the cosine of an angle in radians\n",
        "print(\"math.cos(0) = \", math.cos(0))  # outputs: 1.0\n",
        "\n",
        "# math.tan() returns the tangent of an angle in radians\n",
        "print(\"math.tan(math.pi/4) = \", math.tan(math.pi/4))  # outputs: 1.0\n",
        "\n",
        "# math.sqrt() returns the square root of a number\n",
        "print(\"math.sqrt(9) = \", math.sqrt(9))  # outputs: 3.0\n",
        "\n",
        "# math.factorial() returns the factorial of a number\n",
        "print(\"math.factorial(5) = \", math.factorial(5))  # outputs: 120\n",
        "\n",
        "# math.log() returns the natural logarithm of a number\n",
        "print(\"math.log(10) = \", math.log(10))  # outputs: 2.302585092994046\n",
        "\n",
        "# math.log10() returns the base-10 logarithm of a number\n",
        "print(\"math.log10(100) = \", math.log10(100))  # outputs: 2.0\n",
        "\n",
        "# math.exp() returns the value of e raised to a power\n",
        "print(\"math.exp(2) = \", math.exp(2))  # outputs: 7.38905609893065\n",
        "\n",
        "# math.ceil() returns the smallest integer greater than or equal to a number\n",
        "print(\"math.ceil(4.7) = \", math.ceil(4.7))  # outputs: 5\n",
        "\n",
        "# math.floor() returns the largest integer less than or equal to a number\n",
        "print(\"math.floor(4.7) = \", math.floor(4.7))  # outputs: 4\n",
        "\n",
        "# math.pi is a constant representing the ratio of a circle's circumference to its diameter\n",
        "print(\"math.pi = \", math.pi)  # outputs: 3.14159265359\n",
        "\n",
        "# math.e is a constant representing the base of the natural logarithm\n",
        "print(\"math.e = \", math.e)  # outputs: 2.718281828459045\n",
        "\n",
        "# math.tau is a constant representing the ratio of a circle's circumference to its radius\n",
        "print(\"math.tau = \", math.tau)  # outputs: 6.283185307179586\n",
        "\n",
        "# math.inf is a constant representing infinity\n",
        "print(\"math.inf = \", math.inf)  # outputs: inf\n",
        "\n",
        "# math.nan is a constant representing \"not a number\"\n",
        "print(\"math.nan = \", math.nan)  # outputs: nan"
      ],
      "metadata": {
        "colab": {
          "base_uri": "https://localhost:8080/"
        },
        "id": "lQcq0UARYamQ",
        "outputId": "236c77f4-651e-4efd-f1a6-3903206a215d"
      },
      "execution_count": 28,
      "outputs": [
        {
          "output_type": "stream",
          "name": "stdout",
          "text": [
            "abs(-5) =  5\n",
            "pow(2, 3) =  8\n",
            "round(3.14159, 2) =  3.14\n",
            "max(1, 2, 3, 4, 5) =  5\n",
            "min(1, 2, 3, 4, 5) =  1\n",
            "math.sin(math.pi/2) =  1.0\n",
            "math.cos(0) =  1.0\n",
            "math.tan(math.pi/4) =  0.9999999999999999\n",
            "math.sqrt(9) =  3.0\n",
            "math.factorial(5) =  120\n",
            "math.log(10) =  2.302585092994046\n",
            "math.log10(100) =  2.0\n",
            "math.exp(2) =  7.38905609893065\n",
            "math.ceil(4.7) =  5\n",
            "math.floor(4.7) =  4\n",
            "math.pi =  3.141592653589793\n",
            "math.e =  2.718281828459045\n",
            "math.tau =  6.283185307179586\n",
            "math.inf =  inf\n",
            "math.nan =  nan\n"
          ]
        }
      ]
    }
  ]
}