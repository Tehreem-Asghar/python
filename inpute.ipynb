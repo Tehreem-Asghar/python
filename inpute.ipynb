{
 "cells": [
  {
   "cell_type": "code",
   "execution_count": 2,
   "metadata": {},
   "outputs": [
    {
     "name": "stdout",
     "output_type": "stream",
     "text": [
      "['c:\\\\Users\\\\perfect solution\\\\anaconda3\\\\envs\\\\python12\\\\Lib\\\\site-packages\\\\ipykernel_launcher.py', '--f=\"c:\\\\Users\\\\perfect solution\\\\AppData\\\\Roaming\\\\jupyter\\\\runtime\\\\kernel-v3c2193ff603428a1df75d6f773b791b1b1a1081c1.json\"']\n"
     ]
    }
   ],
   "source": [
    "import sys\n",
    "\n",
    "print(sys.argv)"
   ]
  }
 ],
 "metadata": {
  "kernelspec": {
   "display_name": "python12",
   "language": "python",
   "name": "python3"
  },
  "language_info": {
   "codemirror_mode": {
    "name": "ipython",
    "version": 3
   },
   "file_extension": ".py",
   "mimetype": "text/x-python",
   "name": "python",
   "nbconvert_exporter": "python",
   "pygments_lexer": "ipython3",
   "version": "3.12.7"
  }
 },
 "nbformat": 4,
 "nbformat_minor": 2
}
