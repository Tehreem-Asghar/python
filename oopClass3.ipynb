{
  "nbformat": 4,
  "nbformat_minor": 0,
  "metadata": {
    "colab": {
      "provenance": [],
      "authorship_tag": "ABX9TyPOf1jxe/7TmESpwKQd84Jl",
      "include_colab_link": true
    },
    "kernelspec": {
      "name": "python3",
      "display_name": "Python 3"
    },
    "language_info": {
      "name": "python"
    }
  },
  "cells": [
    {
      "cell_type": "markdown",
      "metadata": {
        "id": "view-in-github",
        "colab_type": "text"
      },
      "source": [
        "<a href=\"https://colab.research.google.com/github/Tehreem-Asghar/python/blob/main/oopClass3.ipynb\" target=\"_parent\"><img src=\"https://colab.research.google.com/assets/colab-badge.svg\" alt=\"Open In Colab\"/></a>"
      ]
    },
    {
      "cell_type": "markdown",
      "source": [
        "## __call__ Method in Python\n",
        "\n",
        "__call__ ek special (dunder) method hai jo kisi bhi class ke instance ko function ki tarah callable bana deta hai. Matlab, agar kisi class me __call__ method define ho, to uska instance parentheses () ke sath call ho sakta hai, jaise ek function.\n",
        "\n",
        "# Callable()\n",
        "callable() ek built-in function hai jo check karta hai ke koi object function ki tarah call ho sakta hai ya nahi. Agar object callable ho (matlab usko parentheses () ke sath invoke kiya ja sakta hai), to True return karta hai, warna False."
      ],
      "metadata": {
        "id": "ZbAkt3pwHend"
      }
    },
    {
      "cell_type": "code",
      "execution_count": null,
      "metadata": {
        "colab": {
          "base_uri": "https://localhost:8080/"
        },
        "id": "LXtcpZ14-B2B",
        "outputId": "ebf355f1-ebbb-47bd-b2e2-59f4658eded9"
      },
      "outputs": [
        {
          "output_type": "execute_result",
          "data": {
            "text/plain": [
              "True"
            ]
          },
          "metadata": {},
          "execution_count": 7
        }
      ],
      "source": [
        "class NonCallable:\n",
        "  def __call__(self):\n",
        "    raise TypeError(\"not really callable\")\n",
        "\n",
        "\n",
        "\n",
        "instance : NonCallable = NonCallable()\n",
        "callable(instance) # True\n",
        "# print(instance())"
      ]
    },
    {
      "cell_type": "markdown",
      "source": [
        "https://packaging.python.org/en/latest/tutorials/packaging-projects/"
      ],
      "metadata": {
        "id": "U5QkgkFFGcpU"
      }
    },
    {
      "cell_type": "code",
      "source": [
        "class MyClass:\n",
        "    def __call__(self):\n",
        "        print(\"Instance called!\")\n",
        "\n",
        "obj = MyClass()\n",
        "print(callable(obj))  # Output: True\n",
        "\n",
        "obj()  # Output: Instance called!\n"
      ],
      "metadata": {
        "colab": {
          "base_uri": "https://localhost:8080/"
        },
        "id": "-q6y0at4HGID",
        "outputId": "bab73728-0b2c-49fb-de5e-feb0cdce1b5c"
      },
      "execution_count": null,
      "outputs": [
        {
          "output_type": "stream",
          "name": "stdout",
          "text": [
            "True\n",
            "Instance called!\n"
          ]
        }
      ]
    },
    {
      "cell_type": "code",
      "source": [
        "class Greeting:\n",
        "    def __call__(self, name):\n",
        "        return f\"Hello, {name}!\"\n",
        "\n",
        "greet = Greeting()  # Class ka instance banaya\n",
        "print(greet(\"Tehreem\"))  # Output: Hello, Tehreem!\n"
      ],
      "metadata": {
        "colab": {
          "base_uri": "https://localhost:8080/"
        },
        "id": "d88s1rzvHZ1t",
        "outputId": "b723a6eb-0bbf-4477-ea5d-3b0d13c9afa8"
      },
      "execution_count": null,
      "outputs": [
        {
          "output_type": "stream",
          "name": "stdout",
          "text": [
            "Hello, Tehreem!\n"
          ]
        }
      ]
    },
    {
      "cell_type": "markdown",
      "source": [
        "# Encapsulation\n",
        "\n",
        "* we have three access modifires 1) public 2) private 3) protected"
      ],
      "metadata": {
        "id": "vCubuWIFH-aC"
      }
    },
    {
      "cell_type": "code",
      "source": [
        "class Piaic():\n",
        "  def __init__(self) -> None :\n",
        "    self.name = \"Tehreem\" # public\n",
        "    self._total_expense = \"6000000\" # protected\n",
        "    self.__test_anoncement = \"5 Nov 2025\"\n",
        "\n",
        "ins = Piaic()\n",
        "print(ins.name)\n",
        "print(ins._total_expense)\n",
        "# print(ins.__test_anoncement) # Error  AttributeError  q ka ya private hai but python khati hai ka ham private ko bhi dosra  tarika sa access kar sakta hai\n",
        "print(ins._Piaic__test_anoncement)   # jasa direct class ka name ka sath call kara ga esa to ya access ho jay ga to ya pure oop nhi hai\n",
        "\n"
      ],
      "metadata": {
        "colab": {
          "base_uri": "https://localhost:8080/"
        },
        "id": "rV-Q6dbpH9ct",
        "outputId": "a9e7a33e-4fa9-4587-eccb-f66a5d015982"
      },
      "execution_count": null,
      "outputs": [
        {
          "output_type": "stream",
          "name": "stdout",
          "text": [
            "Tehreem\n",
            "6000000\n",
            "5 Nov 2025\n"
          ]
        }
      ]
    },
    {
      "cell_type": "code",
      "source": [
        "class StudentLogin():\n",
        "  def __init__(self) -> None:\n",
        "    self.__username = \"Admin\"\n",
        "    self.__password = \"Admin\"\n",
        "\n",
        "  def __dbConnectivity(self ,  user : str , password : str):\n",
        "    print(\"successful connected\")\n",
        "    if self.__username == user and self.__password == password:\n",
        "      return \"valid user\"\n",
        "    else:\n",
        "      return \"invalid user\"\n",
        "\n",
        "  def updatePassword(self , newPassword : str):\n",
        "    self.__password = newPassword\n",
        "\n",
        "  def student_login(self , user :str , password  : str):\n",
        "    return self.__dbConnectivity(user , password)\n",
        "\n",
        "  def display_info(self):\n",
        "    print(\"Username:\", self.__username)\n",
        "    print(\"Password:\", self.__password)\n",
        "\n",
        "\n",
        "obj = StudentLogin()\n",
        "print(obj.student_login(\"Admin\" , \"Admin\"))\n",
        "obj.updatePassword(\"Tehreem\")\n",
        "obj.display_info()\n",
        "\n"
      ],
      "metadata": {
        "colab": {
          "base_uri": "https://localhost:8080/"
        },
        "id": "nxUVA1IVQfeC",
        "outputId": "62105a70-5827-4a51-813d-ae25d3b184b4"
      },
      "execution_count": null,
      "outputs": [
        {
          "output_type": "stream",
          "name": "stdout",
          "text": [
            "successful connected\n",
            "valid user\n",
            "Username: Admin\n",
            "Password: Tehreem\n"
          ]
        }
      ]
    },
    {
      "cell_type": "markdown",
      "source": [
        "# str\n",
        "\n",
        "__str__ ek special (dunder) method hai jo object ka human-readable string representation return karta hai. Jab bhi print(object) ya str(object) use hota hai, to __str__ method automatically call hota hai."
      ],
      "metadata": {
        "id": "BmH7j7dMVBj5"
      }
    },
    {
      "cell_type": "code",
      "source": [
        "class Car:\n",
        "    def __init__(self, model):\n",
        "        self.model = model\n",
        "\n",
        "car = Car(\"Toyota\")\n",
        "print(car)  # Output: <__main__.Car object at 0x...>\n",
        "\n",
        "\n",
        "class Person:\n",
        "    def __init__(self, name, age):\n",
        "        self.name = name\n",
        "        self.age = age\n",
        "\n",
        "    def __str__(self):\n",
        "        return f\"Person(Name: {self.name}, Age: {self.age})\"\n",
        "\n",
        "p = Person(\"Tehreem\", 22)\n",
        "print(p)  # Output: Person(Name: Tehreem, Age: 22)\n"
      ],
      "metadata": {
        "colab": {
          "base_uri": "https://localhost:8080/"
        },
        "id": "U4YrV3KEVJWF",
        "outputId": "c1536369-4ec5-436e-e17a-fcbc37243621"
      },
      "execution_count": null,
      "outputs": [
        {
          "output_type": "stream",
          "name": "stdout",
          "text": [
            "<__main__.Car object at 0x7ee8aa30fb10>\n",
            "Person(Name: Tehreem, Age: 22)\n"
          ]
        }
      ]
    },
    {
      "cell_type": "markdown",
      "source": [
        "# Abstract Class\n",
        "\n",
        "🔹 Abstract Class ek aisi class hoti hai jo directly instantiate nahi ki ja sakti aur sirf base class (parent class) banane ke liye use hoti hai.\n",
        "\n",
        "🔹 Abstract classes template ka kaam karti hain jisme kuch compulsory methods define hote hain jo subclasses ko implement karne padte hain.\n",
        "\n",
        "🔹 ABC (Abstract Base Class) module ka ABC class aur @abstractmethod decorator use hota hai."
      ],
      "metadata": {
        "id": "YEGDeHjmXus3"
      }
    },
    {
      "cell_type": "code",
      "source": [
        "from abc import ABC, abstractmethod\n",
        "\n",
        "# Abstract class\n",
        "class Payment(ABC):\n",
        "    @abstractmethod\n",
        "    def process_payment(self, amount):\n",
        "        pass  # Subclasses ko yeh method implement karna hoga\n",
        "\n",
        "# Concrete class for CreditCard\n",
        "class CreditCardPayment(Payment):\n",
        "    def process_payment(self, amount):\n",
        "        return f\"Processing Credit Card payment of ${amount}\"\n",
        "\n",
        "# Concrete class for PayPal\n",
        "class PayPalPayment(Payment):\n",
        "    def process_payment(self, amount):\n",
        "        return f\"Processing PayPal payment of ${amount}\"\n",
        "\n",
        "# Creating objects of subclasses\n",
        "credit_card = CreditCardPayment()\n",
        "paypal = PayPalPayment()\n",
        "\n",
        "# Calling the method\n",
        "print(credit_card.process_payment(100))  # Output: Processing Credit Card payment of $100\n",
        "print(paypal.process_payment(50))        # Output: Processing PayPal payment of $50\n"
      ],
      "metadata": {
        "colab": {
          "base_uri": "https://localhost:8080/"
        },
        "id": "Y9iiKM5QXx93",
        "outputId": "080e6aa8-5dfb-4b49-fa31-0bea5ece8878"
      },
      "execution_count": null,
      "outputs": [
        {
          "output_type": "stream",
          "name": "stdout",
          "text": [
            "Processing Credit Card payment of $100\n",
            "Processing PayPal payment of $50\n"
          ]
        }
      ]
    },
    {
      "cell_type": "markdown",
      "source": [
        "# Duc typing\n",
        "\n",
        "💡 Real-Life Example:\n",
        "Socho tumhare paas remote control hai. Tumhe sirf \"power button\" dabana ata hai. Tumhe yeh nahi pata ke wo remote kis cheez ka hai (TV, AC, ya music system).\n",
        "\n",
        "Agar remote ka power button kaam karta hai, to tum keh sakte ho ke yeh ek sahi remote hai!\n",
        "\n",
        "Matlab:\n",
        "\n",
        "Agar wo TV ka remote hai → TV ON ho jayega.\n",
        "Agar wo AC ka remote hai → AC ON ho jayega.\n",
        "Agar wo music system ka remote hai → Music ON ho jayega."
      ],
      "metadata": {
        "id": "b4lRRrCdiqfl"
      }
    },
    {
      "cell_type": "code",
      "source": [
        "class TV:\n",
        "    def power_on(self):\n",
        "        return \"TV is ON\"\n",
        "\n",
        "class AC:\n",
        "    def power_on(self):\n",
        "        return \"AC is ON\"\n",
        "\n",
        "class MusicSystem:\n",
        "    def power_on(self):\n",
        "        return \"Music System is ON\"\n",
        "\n",
        "# Function jo kisi bhi device ko ON kar sakta hai\n",
        "def turn_on(device):\n",
        "    return device.power_on()  # Sirf power_on method check karega\n",
        "\n",
        "tv = TV()\n",
        "ac = AC()\n",
        "music = MusicSystem()\n",
        "\n",
        "print(turn_on(tv))      # Output: TV is ON\n",
        "print(turn_on(ac))      # Output: AC is ON\n",
        "print(turn_on(music))   # Output: Music System is ON\n"
      ],
      "metadata": {
        "id": "wZnNPSUjiooo"
      },
      "execution_count": null,
      "outputs": []
    }
  ]
}