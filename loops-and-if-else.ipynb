{
 "cells": [
  {
   "cell_type": "markdown",
   "metadata": {},
   "source": [
    "# if, elif, else & Nested if-elif-else in Python\n",
    "\n",
    "Python's if-elif-else conditional statements are used for decision-making. If one condition is True, its block is executed; otherwise, other conditions are checked.\n",
    "\n",
    "* if Statement (Single Condition) : Agar condition True hoti hai toh code execute hota hai, warna skip ho jata hai.\n",
    "* if-else Statement (Two Conditions) : Agar if ki condition False ho, toh else ka block execute hota hai.\n",
    "* if-elif-else Statement (Multiple Conditions) :  Agar ek se zyada conditions check karni ho, toh elif ka use hota hai.\n",
    "\n",
    "# Nested if-elif-else (if ke andar if)\n",
    "* Nested if-elif-else statements allow for more complex decision-making. If the outer if condition is True, the inner if-elif-else block is evaluated."
   ]
  },
  {
   "cell_type": "code",
   "execution_count": 3,
   "metadata": {},
   "outputs": [
    {
     "name": "stdout",
     "output_type": "stream",
     "text": [
      "You are eligible to vote!\n",
      "You are not eligible to vote.\n",
      "Grade: B\n",
      "You can vote!\n"
     ]
    }
   ],
   "source": [
    "# if Statement (Single Condition)\n",
    "age = 20\n",
    "if age >= 18:\n",
    "    print(\"You are eligible to vote!\")\n",
    "\n",
    "\n",
    "# if-else Statement (Two Conditions)\n",
    "age = 16\n",
    "if age >= 18:\n",
    "    print(\"You can vote!\")\n",
    "else:\n",
    "    print(\"You are not eligible to vote.\")\n",
    "\n",
    "\n",
    "#  if-elif-else Statement (Multiple Conditions)\n",
    "marks = 75\n",
    "\n",
    "if marks >= 90:\n",
    "    print(\"Grade: A\")\n",
    "elif marks >= 70:\n",
    "    print(\"Grade: B\")\n",
    "elif marks >= 50:\n",
    "    print(\"Grade: C\")\n",
    "else:\n",
    "    print(\"Grade: Fail\")\n",
    "\n",
    "\n",
    "# Nested if-elif-else (if ke andar if)\n",
    "age = 20\n",
    "citizen = True\n",
    "\n",
    "if age >= 18:\n",
    "    if citizen:\n",
    "        print(\"You can vote!\")\n",
    "    else:\n",
    "        print(\"You need to be a citizen to vote.\")\n",
    "else:\n",
    "    print(\"You are not eligible to vote.\")\n"
   ]
  },
  {
   "cell_type": "code",
   "execution_count": null,
   "metadata": {},
   "outputs": [],
   "source": [
    "# prompt: build a calculator which takes input from the user, beside basic functionality include modulus, floor division, Exponentiation\n",
    "\n",
    "def calculator():\n",
    "  \"\"\"\n",
    "  A calculator function that takes user input for numbers and operations,\n",
    "  including modulus, floor division, and exponentiation.\n",
    "  \"\"\"\n",
    "  while True:\n",
    "    operation = input(\"Enter the operation (+, -, *, /, %, //, ** or 'q' to quit): \")\n",
    "    if operation.lower() == 'q':\n",
    "      break\n",
    "    if operation not in ('+', '-', '*', '/', '%', '//', '**'):\n",
    "      print(\"Invalid operation.\")\n",
    "      continue\n",
    "\n",
    "    try:\n",
    "      num1 = float(input(\"Enter the first number: \"))\n",
    "      num2 = float(input(\"Enter the second number: \"))\n",
    "    except ValueError:\n",
    "      print(\"Invalid input. Please enter numbers only.\")\n",
    "      continue\n",
    "\n",
    "    if operation == '+':\n",
    "      result = num1 + num2\n",
    "    elif operation == '-':\n",
    "      result = num1 - num2\n",
    "    elif operation == '*':\n",
    "      result = num1 * num2\n",
    "    elif operation == '/':\n",
    "      if num2 != 0:\n",
    "        result = num1 / num2\n",
    "      else:\n",
    "        result = \"Error: Division by zero.\"\n",
    "        print(result)\n",
    "        continue\n",
    "    elif operation == '%':\n",
    "      result = num1 % num2\n",
    "    elif operation == '//':\n",
    "      if num2 != 0:\n",
    "        result = num1 // num2\n",
    "      else:\n",
    "        result = \"Error: Division by zero.\"\n",
    "        print(result)\n",
    "        continue\n",
    "    elif operation == '**':\n",
    "      result = num1 ** num2\n",
    "\n",
    "    print(\"Result:\", result)\n",
    "\n",
    "calculator()"
   ]
  },
  {
   "cell_type": "markdown",
   "metadata": {},
   "source": [
    "# Loops in Python\n",
    " \n",
    " * Loops repeatedly execute a block of code until a specific condition is met. in python two types of loops:\n",
    "\n",
    "    * for loop – Used to iterate over a sequence (list, string, range, etc.).\n",
    "     * while loop – The loop runs as long as the condition is True.\n",
    "\n",
    "# Nested Loops (Loop inside Loop)\n",
    "* When there is a loop inside another loop, it is called a nested loop."
   ]
  },
  {
   "cell_type": "code",
   "execution_count": 4,
   "metadata": {},
   "outputs": [
    {
     "name": "stdout",
     "output_type": "stream",
     "text": [
      "apple\n",
      "banana\n",
      "cherry\n",
      "0\n",
      "1\n",
      "2\n",
      "3\n",
      "4\n",
      "Hello, World! 1\n",
      "Hello, World! 2\n",
      "Hello, World! 3\n",
      "Hello, World! 4\n",
      "Hello, World! 5\n",
      "(0, 0) (0, 1) (0, 2) \n",
      "(1, 0) (1, 1) (1, 2) \n",
      "(2, 0) (2, 1) (2, 2) \n"
     ]
    }
   ],
   "source": [
    "# for Loop\n",
    "\n",
    "fruits = [\"apple\", \"banana\", \"cherry\"]\n",
    "for fruit in fruits:\n",
    "    print(fruit)\n",
    "\n",
    "\n",
    "for i in range(5):  # Loops from 0 to 4\n",
    "    print(i)\n",
    "\n",
    "\n",
    "# while Loop\n",
    "\n",
    "count = 1\n",
    "while count <= 5:\n",
    "    print(\"Hello, World!\", count)\n",
    "    count += 1  # Increment count\n",
    "\n",
    "\n",
    "# Nested Loops (Loop inside Loop)\n",
    "\n",
    "for i in range(3):  # Outer loop\n",
    "    for j in range(3):  # Inner loop\n",
    "        print(f\"({i}, {j})\", end=\" \")\n",
    "    print()  # New line after inner loop ends\n",
    "\n"
   ]
  },
  {
   "cell_type": "markdown",
   "metadata": {},
   "source": [
    "# Error Handling in Python (try-except)\n",
    "\n",
    "* In Python, try-except is used to handle errors (exceptions) that may occur during code execution. Instead of crashing the program, Python executes the except block when an error occurs.\n",
    "\n",
    "# try-except Statement\n",
    " * If a block of code is likely to cause an error, we place it inside a try block. If an error occurs, the except block runs.\n",
    "\n",
    "# try-except-finally Statement\n",
    "  * The finally block always executes, whether an error occurs or not."
   ]
  },
  {
   "cell_type": "code",
   "execution_count": 6,
   "metadata": {},
   "outputs": [
    {
     "name": "stdout",
     "output_type": "stream",
     "text": [
      "Error: Cannot divide by zero!\n",
      "Error: Cannot divide by zero!\n",
      "Execution completed!\n"
     ]
    }
   ],
   "source": [
    "# try-except Statement\n",
    "try:\n",
    "    num = 10 / 0  # Error: Division by zero\n",
    "except ZeroDivisionError:\n",
    "    print(\"Error: Cannot divide by zero!\")\n",
    "\n",
    "\n",
    "# try-except-finally Statement\n",
    "try:\n",
    "    num = 10 / 0  # Error\n",
    "except ZeroDivisionError:\n",
    "    print(\"Error: Cannot divide by zero!\")\n",
    "finally:\n",
    "    print(\"Execution completed!\")\n",
    "\n"
   ]
  }
 ],
 "metadata": {
  "kernelspec": {
   "display_name": "python12",
   "language": "python",
   "name": "python3"
  },
  "language_info": {
   "codemirror_mode": {
    "name": "ipython",
    "version": 3
   },
   "file_extension": ".py",
   "mimetype": "text/x-python",
   "name": "python",
   "nbconvert_exporter": "python",
   "pygments_lexer": "ipython3",
   "version": "3.12.7"
  }
 },
 "nbformat": 4,
 "nbformat_minor": 2
}
