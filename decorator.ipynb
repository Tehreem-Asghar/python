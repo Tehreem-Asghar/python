{
 "cells": [
  {
   "cell_type": "code",
   "execution_count": 1,
   "metadata": {},
   "outputs": [
    {
     "name": "stdout",
     "output_type": "stream",
     "text": [
      "Function call se pehle kuch kar raha hoon...\n",
      "Hello, World!\n",
      "Function call ke baad kuch kar raha hoon...\n"
     ]
    }
   ],
   "source": [
    "from typing import Callable\n",
    "\n",
    "# Decorator function with type hints\n",
    "def my_decorator(func: Callable[[], None]) -> Callable[[], None]:\n",
    "    def wrapper() -> None:\n",
    "        print(\"Function call se pehle kuch kar raha hoon...\")\n",
    "        func()\n",
    "        print(\"Function call ke baad kuch kar raha hoon...\")\n",
    "    return wrapper\n",
    "\n",
    "# Function being decorated\n",
    "@my_decorator\n",
    "def say_hello() -> None:\n",
    "    print(\"Hello, World!\")\n",
    "\n",
    "say_hello()\n"
   ]
  },
  {
   "cell_type": "code",
   "execution_count": null,
   "metadata": {},
   "outputs": [
    {
     "name": "stdout",
     "output_type": "stream",
     "text": [
      "num1 0\n",
      "0\n",
      "2\n",
      "num2 0\n"
     ]
    }
   ],
   "source": [
    "# coun = 0\n",
    "\n",
    "# def count(num : int):\n",
    "#   print(\"num1\" ,  num)\n",
    "#   print(coun)\n",
    "#   count += 2\n",
    "#   print(coun)\n",
    "#   print(\"num2\" , num)\n",
    "\n",
    "\n",
    "coun = 0\n",
    "\n",
    "def count(num: int):\n",
    "    global coun\n",
    "    print(\"num1\", num)\n",
    "    print(coun)\n",
    "    coun += 2\n",
    "    print(coun)\n",
    "    print(\"num2\", num)\n",
    "\n",
    "count(coun)"
   ]
  }
 ],
 "metadata": {
  "kernelspec": {
   "display_name": "python12",
   "language": "python",
   "name": "python3"
  },
  "language_info": {
   "codemirror_mode": {
    "name": "ipython",
    "version": 3
   },
   "file_extension": ".py",
   "mimetype": "text/x-python",
   "name": "python",
   "nbconvert_exporter": "python",
   "pygments_lexer": "ipython3",
   "version": "3.12.7"
  }
 },
 "nbformat": 4,
 "nbformat_minor": 2
}
